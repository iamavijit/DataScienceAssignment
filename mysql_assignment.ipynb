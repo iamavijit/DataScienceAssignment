{
 "cells": [
  {
   "cell_type": "markdown",
   "id": "7673304f-9267-458c-bbf1-1e2a7da0add0",
   "metadata": {},
   "source": [
    "## Q1. What is a database? Differentiate between SQL and NoSQL databases.\n",
    "**Ans:**\n",
    "Database is organized collection of data. SQL database  uses tabular forms to store the data and NoSQL database uses collection and documents forms to store the data. "
   ]
  },
  {
   "cell_type": "markdown",
   "id": "a9448315-180c-44f8-80ba-4e57eca18368",
   "metadata": {},
   "source": [
    "## Q2. What is DDL? Explain why CREATE, DROP, ALTER, and TRUNCATE are used with an example.\n",
    "**Ans:**\n",
    "DDL is data definition language.\n",
    "**CREATE is used for create sometimg like table.**\n",
    "CREATE TABLE table_name (\n",
    "    column1 datatype,\n",
    "    column2 datatype,\n",
    "    column3 datatype,\n",
    "   ....\n",
    ");\n",
    "**DROP is used for dropping something for the database.**\n",
    "DROP TABLE table_name;\n",
    "**ALTER TABLE is used to add, delete, or modify columns in an existing table.**\n",
    "ALTER TABLE table_name\n",
    "ADD column_name datatype;\n",
    "**TRUNCATE is used to delete all the data from a table, without dropping the table structure**\n",
    "TRUNCATE TABLE table_name;"
   ]
  },
  {
   "cell_type": "markdown",
   "id": "2b2461d5-c4d6-493c-9c3a-8b7aea432715",
   "metadata": {},
   "source": [
    "## Q3. What is DML? Explain INSERT, UPDATE, and DELETE with an example.\n",
    "**Ans:** DML is data manipulation language.\n",
    "**INSERT is used to inserting data in table**\n",
    "INSERT INTO table_name (column1, column2, column3, ...)\n",
    "VALUES (value1, value2, value3, ...);\n",
    "**UPDATE is used to update existing value in one or multiple cell.**\n",
    "UPDATE table_name\n",
    "SET column1 = value1, column2 = value2, ...\n",
    "WHERE condition;\n",
    "**DELETE is used to delete data from a table.**\n",
    "DELETE FROM table_name WHERE condition;"
   ]
  },
  {
   "cell_type": "markdown",
   "id": "99271a54-81e6-4851-8ed5-0bbdff7363d4",
   "metadata": {},
   "source": [
    "## Q4. What is DQL? Explain SELECT with an example.\n",
    "**Ans:** DQL is Data Query Language.\n",
    "select * from table_name;"
   ]
  },
  {
   "cell_type": "markdown",
   "id": "90898ccf-3087-4c76-a0be-0d1159716174",
   "metadata": {},
   "source": [
    "## Q5. Explain Primary Key and Foreign Key.\n",
    "**Ans:**The PRIMARY KEY constraint uniquely identifies each record in a table.\n",
    "The FOREIGN KEY constraint is used to prevent actions that would destroy links between tables."
   ]
  },
  {
   "cell_type": "markdown",
   "id": "93d8f7cf-94ce-42d4-be0a-4e5246352a35",
   "metadata": {},
   "source": [
    "## Q6. Write a python code to connect MySQL to python. Explain the cursor() and execute() method."
   ]
  },
  {
   "cell_type": "markdown",
   "id": "a73e84d7-125c-4cd1-9c8e-d3fa53594c12",
   "metadata": {},
   "source": [
    "import mysql.connector\n",
    "mydb = mysql.connectr.connect(\n",
    "host='localhost',\n",
    "user='user',\n",
    "password='password'\n",
    ")"
   ]
  },
  {
   "cell_type": "markdown",
   "id": "046848d4-b014-4acb-833a-c098fd374f52",
   "metadata": {},
   "source": [
    "cursor()  is used to execute statements to communicate with the MySQL database."
   ]
  },
  {
   "cell_type": "markdown",
   "id": "ab4e0478-d327-460e-bc3c-b14b02edd76c",
   "metadata": {},
   "source": [
    "execute() is used to execute sql statement in Mysql database."
   ]
  },
  {
   "cell_type": "markdown",
   "id": "49b0b202-ffa9-477f-817a-70b7edc8814f",
   "metadata": {},
   "source": [
    "## Q7. Give the order of execution of SQL clauses in an SQL query.\n",
    "1.FROM,2.WHERE,3.GROUP BY,4.HAVING,5.SELECT,6.ORDER BY,7.LIMIT"
   ]
  },
  {
   "cell_type": "code",
   "execution_count": null,
   "id": "3ccb4413-e90e-4aa0-a332-4052ed7001c1",
   "metadata": {},
   "outputs": [],
   "source": []
  }
 ],
 "metadata": {
  "kernelspec": {
   "display_name": "Python 3 (ipykernel)",
   "language": "python",
   "name": "python3"
  },
  "language_info": {
   "codemirror_mode": {
    "name": "ipython",
    "version": 3
   },
   "file_extension": ".py",
   "mimetype": "text/x-python",
   "name": "python",
   "nbconvert_exporter": "python",
   "pygments_lexer": "ipython3",
   "version": "3.10.8"
  }
 },
 "nbformat": 4,
 "nbformat_minor": 5
}
