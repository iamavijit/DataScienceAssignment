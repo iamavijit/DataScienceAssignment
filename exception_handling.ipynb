{
 "cells": [
  {
   "cell_type": "markdown",
   "id": "49f0a001-0bcc-4f54-80f5-0bfcb34c8ef7",
   "metadata": {
    "jp-MarkdownHeadingCollapsed": true
   },
   "source": [
    "### Question:1"
   ]
  },
  {
   "cell_type": "markdown",
   "id": "a8798cfa-7806-4ff9-9471-9e491837378f",
   "metadata": {},
   "source": [
    "Exception occurs when the code is correct with syntax but becuase of the logic written in the code the program gets terminated with error."
   ]
  },
  {
   "cell_type": "markdown",
   "id": "b0a2beb8-86d6-4f0a-ab44-3501478263b4",
   "metadata": {},
   "source": [
    "**Syntax Error Example**"
   ]
  },
  {
   "cell_type": "code",
   "execution_count": 2,
   "id": "93538253-0233-4b76-9d44-0a75f567c762",
   "metadata": {},
   "outputs": [
    {
     "ename": "NameError",
     "evalue": "name 'avijit' is not defined",
     "output_type": "error",
     "traceback": [
      "\u001b[1;31m---------------------------------------------------------------------------\u001b[0m",
      "\u001b[1;31mNameError\u001b[0m                                 Traceback (most recent call last)",
      "Cell \u001b[1;32mIn[2], line 1\u001b[0m\n\u001b[1;32m----> 1\u001b[0m a \u001b[38;5;241m=\u001b[39m\u001b[43mavijit\u001b[49m\n",
      "\u001b[1;31mNameError\u001b[0m: name 'avijit' is not defined"
     ]
    }
   ],
   "source": [
    "a =avijit"
   ]
  },
  {
   "cell_type": "markdown",
   "id": "ac223387-e94d-463e-bc41-2a134f46e3e7",
   "metadata": {},
   "source": [
    "**Exception Example**"
   ]
  },
  {
   "cell_type": "code",
   "execution_count": 3,
   "id": "94594b3d-cfa2-4a92-971b-005f4067ce87",
   "metadata": {},
   "outputs": [
    {
     "ename": "ZeroDivisionError",
     "evalue": "division by zero",
     "output_type": "error",
     "traceback": [
      "\u001b[1;31m---------------------------------------------------------------------------\u001b[0m",
      "\u001b[1;31mZeroDivisionError\u001b[0m                         Traceback (most recent call last)",
      "Cell \u001b[1;32mIn[3], line 3\u001b[0m\n\u001b[0;32m      1\u001b[0m a \u001b[38;5;241m=\u001b[39m \u001b[38;5;241m10\u001b[39m\n\u001b[0;32m      2\u001b[0m b \u001b[38;5;241m=\u001b[39m \u001b[38;5;241m0\u001b[39m\n\u001b[1;32m----> 3\u001b[0m c \u001b[38;5;241m=\u001b[39m \u001b[43ma\u001b[49m\u001b[43m \u001b[49m\u001b[38;5;241;43m/\u001b[39;49m\u001b[43m \u001b[49m\u001b[43mb\u001b[49m\n",
      "\u001b[1;31mZeroDivisionError\u001b[0m: division by zero"
     ]
    }
   ],
   "source": [
    "a = 10\n",
    "b = 0\n",
    "c = a / b"
   ]
  },
  {
   "cell_type": "markdown",
   "id": "311a2bcc-2804-4769-8a07-d5b4754c933f",
   "metadata": {},
   "source": [
    "In above cell code is correct with syntax but because of the logic it resulted into error."
   ]
  },
  {
   "cell_type": "markdown",
   "id": "3017182f-4add-4ff5-94bd-18b37795a5f1",
   "metadata": {
    "jp-MarkdownHeadingCollapsed": true
   },
   "source": [
    "### Question 2"
   ]
  },
  {
   "cell_type": "markdown",
   "id": "38724c35-bc50-4c13-86fa-d9497f46b6f4",
   "metadata": {},
   "source": [
    "If exception is not handled then program will get terminated without completing the all the program."
   ]
  },
  {
   "cell_type": "markdown",
   "id": "2f18df0d-28f2-4179-b631-b9be036d7f1a",
   "metadata": {},
   "source": [
    "Example:"
   ]
  },
  {
   "cell_type": "code",
   "execution_count": 4,
   "id": "b04bebfd-6f66-4a21-9dd2-460cabeeebe8",
   "metadata": {},
   "outputs": [
    {
     "ename": "ZeroDivisionError",
     "evalue": "division by zero",
     "output_type": "error",
     "traceback": [
      "\u001b[1;31m---------------------------------------------------------------------------\u001b[0m",
      "\u001b[1;31mZeroDivisionError\u001b[0m                         Traceback (most recent call last)",
      "Cell \u001b[1;32mIn[4], line 3\u001b[0m\n\u001b[0;32m      1\u001b[0m a \u001b[38;5;241m=\u001b[39m \u001b[38;5;241m10\u001b[39m\n\u001b[0;32m      2\u001b[0m b \u001b[38;5;241m=\u001b[39m \u001b[38;5;241m0\u001b[39m\n\u001b[1;32m----> 3\u001b[0m c \u001b[38;5;241m=\u001b[39m \u001b[43ma\u001b[49m\u001b[38;5;241;43m/\u001b[39;49m\u001b[43mb\u001b[49m\n\u001b[0;32m      4\u001b[0m \u001b[38;5;28mprint\u001b[39m(\u001b[38;5;124m'\u001b[39m\u001b[38;5;124mHi\u001b[39m\u001b[38;5;124m'\u001b[39m)\n",
      "\u001b[1;31mZeroDivisionError\u001b[0m: division by zero"
     ]
    }
   ],
   "source": [
    "a = 10\n",
    "b = 0\n",
    "c = a/b\n",
    "print('Hi')"
   ]
  },
  {
   "cell_type": "markdown",
   "id": "fbffdfcf-a0a8-4a54-b86a-da359c287253",
   "metadata": {},
   "source": [
    "See how 'Hi' is not printed."
   ]
  },
  {
   "cell_type": "markdown",
   "id": "07f78bed-eb5e-458f-9792-ed44858c9ace",
   "metadata": {
    "jp-MarkdownHeadingCollapsed": true
   },
   "source": [
    "### Question 3"
   ]
  },
  {
   "cell_type": "markdown",
   "id": "16d7c676-7675-4a64-8cfb-e1ed3bec8391",
   "metadata": {},
   "source": [
    "**Syntax for exception handlin**"
   ]
  },
  {
   "cell_type": "markdown",
   "id": "7db6e15f-9af2-4b06-b89d-fe811b4a7581",
   "metadata": {},
   "source": [
    "try:\\\n",
    "    ---code\\\n",
    "except Exception as e:\\\n",
    "    print(e)\\\n",
    "**Example:**"
   ]
  },
  {
   "cell_type": "code",
   "execution_count": 5,
   "id": "1b021d5c-c04d-4aad-87bc-965fd5fad88c",
   "metadata": {},
   "outputs": [
    {
     "name": "stdout",
     "output_type": "stream",
     "text": [
      "division by zero\n"
     ]
    }
   ],
   "source": [
    "try:\n",
    "    a = 10\n",
    "    b = 0\n",
    "    c = a/b\n",
    "except ZeroDivisionError as e:\n",
    "    print(e)"
   ]
  },
  {
   "cell_type": "markdown",
   "id": "8bd8a298-2d60-4dce-9d7f-94ae5d418910",
   "metadata": {
    "jp-MarkdownHeadingCollapsed": true
   },
   "source": [
    "### Question 4"
   ]
  },
  {
   "cell_type": "markdown",
   "id": "038e60ac-fb85-4903-9a30-69773fa0534c",
   "metadata": {},
   "source": [
    "**try--else**"
   ]
  },
  {
   "cell_type": "code",
   "execution_count": 7,
   "id": "00166d0b-ad2a-4dee-95d0-48c053dc194c",
   "metadata": {},
   "outputs": [
    {
     "name": "stdout",
     "output_type": "stream",
     "text": [
      "division by zero\n"
     ]
    }
   ],
   "source": [
    "try:\n",
    "    a = 1\n",
    "    b = 0\n",
    "    c = a /b\n",
    "except ZeroDivisionError as e:\n",
    "    print(e)\n",
    "else:\n",
    "    print('Program executed sucessfully.')"
   ]
  },
  {
   "cell_type": "code",
   "execution_count": 8,
   "id": "eb81551f-4e65-4813-94f5-d4a81a1aa259",
   "metadata": {},
   "outputs": [
    {
     "name": "stdout",
     "output_type": "stream",
     "text": [
      "Program executed sucessfully.\n"
     ]
    }
   ],
   "source": [
    "try:\n",
    "    a = 1\n",
    "    b = 1\n",
    "    c = a /b\n",
    "except ZeroDivisionError as e:\n",
    "    print(e)\n",
    "else:\n",
    "    print('Program executed sucessfully.')"
   ]
  },
  {
   "cell_type": "markdown",
   "id": "b462a573-ab83-4598-a90b-95d58bb91dfd",
   "metadata": {},
   "source": [
    "See else block will execute only when there is no exception."
   ]
  },
  {
   "cell_type": "markdown",
   "id": "fd1b040e-ef8e-406d-b6d1-7ff9cc82a339",
   "metadata": {},
   "source": [
    "**finally**"
   ]
  },
  {
   "cell_type": "code",
   "execution_count": 9,
   "id": "0544f279-8477-424b-a5fc-6c93dc6c69f6",
   "metadata": {},
   "outputs": [
    {
     "name": "stdout",
     "output_type": "stream",
     "text": [
      "division by zero\n",
      "Executed always.\n"
     ]
    }
   ],
   "source": [
    "try:\n",
    "    a = 1\n",
    "    b = 0\n",
    "    c = a /b\n",
    "except ZeroDivisionError as e:\n",
    "    print(e)\n",
    "else:\n",
    "    print('Program executed sucessfully.')\n",
    "finally:\n",
    "    print('Executed always.')"
   ]
  },
  {
   "cell_type": "markdown",
   "id": "c78df65b-d4f2-4c8b-a8b2-612cd617d60d",
   "metadata": {},
   "source": [
    "finally block always be executed."
   ]
  },
  {
   "cell_type": "markdown",
   "id": "7576a364-7bfe-4673-a0f0-c714e62087bd",
   "metadata": {},
   "source": [
    "**raise**"
   ]
  },
  {
   "cell_type": "code",
   "execution_count": 15,
   "id": "5c8e37b9-7ba2-4af2-8447-a470b00bd9c0",
   "metadata": {},
   "outputs": [
    {
     "name": "stdout",
     "output_type": "stream",
     "text": [
      "Zero division error.\n"
     ]
    }
   ],
   "source": [
    "try:\n",
    "    raise ZeroDivisionError('Zero division error.')\n",
    "except ZeroDivisionError as e:\n",
    "    print(e)"
   ]
  },
  {
   "cell_type": "markdown",
   "id": "48fb1d1c-3f5b-43ea-a328-023c0cad3b41",
   "metadata": {},
   "source": [
    "raising the error directly."
   ]
  },
  {
   "cell_type": "markdown",
   "id": "c05912e4-3f96-4867-8bb6-98064ae29a90",
   "metadata": {
    "jp-MarkdownHeadingCollapsed": true
   },
   "source": [
    "### Question 5"
   ]
  },
  {
   "cell_type": "markdown",
   "id": "7aa5e0cb-4035-46e0-817d-d491a8a76687",
   "metadata": {},
   "source": [
    "**Custom exception** is user defined exception. "
   ]
  },
  {
   "cell_type": "markdown",
   "id": "06b18ca5-35ea-4e37-ac43-5452f693d05f",
   "metadata": {},
   "source": [
    "Custom exception needed because some time logically there is no exception but in ideal scenario we need to raise a exception. "
   ]
  },
  {
   "cell_type": "code",
   "execution_count": 16,
   "id": "6ed331a2-6370-45cb-9ac4-5ee65d430f58",
   "metadata": {},
   "outputs": [],
   "source": [
    "class ageError(Exception):\n",
    "    def __init__(self,msg):\n",
    "        self.msg = msg"
   ]
  },
  {
   "cell_type": "code",
   "execution_count": 17,
   "id": "39eb254a-b345-4cda-a751-62afc808df32",
   "metadata": {},
   "outputs": [],
   "source": [
    "def ageValidation(age):\n",
    "    if age<0:\n",
    "        raise ageError('Your age can not be negative.')\n",
    "    elif age>100:\n",
    "        raise ageError('Your age is too high.')\n",
    "    else:\n",
    "        print('Your age is perfect')"
   ]
  },
  {
   "cell_type": "code",
   "execution_count": 18,
   "id": "50803df9-6e39-4f30-ba78-d861f36b095e",
   "metadata": {},
   "outputs": [
    {
     "name": "stdout",
     "output_type": "stream",
     "text": [
      "Your age can not be negative.\n"
     ]
    }
   ],
   "source": [
    "try:\n",
    "    ageValidation(-68)\n",
    "except ageError as e:\n",
    "    print(e.msg)"
   ]
  },
  {
   "cell_type": "code",
   "execution_count": 19,
   "id": "e1b73950-4e3e-4cb8-a937-6e97b935e907",
   "metadata": {},
   "outputs": [
    {
     "name": "stdout",
     "output_type": "stream",
     "text": [
      "Your age is too high.\n"
     ]
    }
   ],
   "source": [
    "try:\n",
    "    ageValidation(101)\n",
    "except ageError as e:\n",
    "    print(e.msg)"
   ]
  },
  {
   "cell_type": "code",
   "execution_count": 20,
   "id": "fba01399-fa9b-498a-9734-58b083257d39",
   "metadata": {},
   "outputs": [
    {
     "name": "stdout",
     "output_type": "stream",
     "text": [
      "Your age is perfect\n"
     ]
    }
   ],
   "source": [
    "try:\n",
    "    ageValidation(6)\n",
    "except ageError as e:\n",
    "    print(e.msg)"
   ]
  },
  {
   "cell_type": "markdown",
   "id": "0b49694e-9eee-4ffa-b74d-1e73f272700b",
   "metadata": {
    "jp-MarkdownHeadingCollapsed": true
   },
   "source": [
    "### Question 6"
   ]
  },
  {
   "cell_type": "code",
   "execution_count": 21,
   "id": "1724bb98-e35d-4652-baa1-34c9a70ce65b",
   "metadata": {},
   "outputs": [],
   "source": [
    "class voterAgeError(Exception):\n",
    "    def __init__(self,msg):\n",
    "        self.msg = msg"
   ]
  },
  {
   "cell_type": "code",
   "execution_count": 22,
   "id": "17c45ead-0313-40d3-94ff-870e37cb4307",
   "metadata": {},
   "outputs": [],
   "source": [
    "def voterAgeValidation(age):\n",
    "    if (age < 0) or (age>100):\n",
    "        raise voterAgeError('Please enter a correct age')\n",
    "    elif age < 18:\n",
    "        raise voterAgeError('Below 18 you can not give vote.')\n",
    "    else:\n",
    "        print('You can give vote')"
   ]
  },
  {
   "cell_type": "code",
   "execution_count": 24,
   "id": "ed8a6afa-e9b0-4bd6-b431-53d96244f7eb",
   "metadata": {},
   "outputs": [
    {
     "name": "stdout",
     "output_type": "stream",
     "text": [
      "Please enter a correct age\n"
     ]
    }
   ],
   "source": [
    "try:\n",
    "    voterAgeValidation(-1)\n",
    "except voterAgeError as e:\n",
    "    print(e.msg)"
   ]
  },
  {
   "cell_type": "code",
   "execution_count": 25,
   "id": "65800182-96a2-407e-afc8-560d6c8a2eca",
   "metadata": {},
   "outputs": [
    {
     "name": "stdout",
     "output_type": "stream",
     "text": [
      "Please enter a correct age\n"
     ]
    }
   ],
   "source": [
    "try:\n",
    "    voterAgeValidation(101)\n",
    "except voterAgeError as e:\n",
    "    print(e.msg)"
   ]
  },
  {
   "cell_type": "code",
   "execution_count": 26,
   "id": "288e034c-9577-49c8-aad6-d42b551d3bc5",
   "metadata": {},
   "outputs": [
    {
     "name": "stdout",
     "output_type": "stream",
     "text": [
      "Below 18 you can not give vote.\n"
     ]
    }
   ],
   "source": [
    "try:\n",
    "    voterAgeValidation(17)\n",
    "except voterAgeError as e:\n",
    "    print(e.msg)"
   ]
  },
  {
   "cell_type": "code",
   "execution_count": 27,
   "id": "295b3680-79db-4d46-92c1-eb4f4a5532d3",
   "metadata": {},
   "outputs": [
    {
     "name": "stdout",
     "output_type": "stream",
     "text": [
      "You can give vote\n"
     ]
    }
   ],
   "source": [
    "try:\n",
    "    voterAgeValidation(18)\n",
    "except voterAgeError as e:\n",
    "    print(e.msg)"
   ]
  },
  {
   "cell_type": "code",
   "execution_count": null,
   "id": "dd8f4ed4-8008-46d9-846b-1a972925e83a",
   "metadata": {},
   "outputs": [],
   "source": []
  }
 ],
 "metadata": {
  "kernelspec": {
   "display_name": "Python 3 (ipykernel)",
   "language": "python",
   "name": "python3"
  },
  "language_info": {
   "codemirror_mode": {
    "name": "ipython",
    "version": 3
   },
   "file_extension": ".py",
   "mimetype": "text/x-python",
   "name": "python",
   "nbconvert_exporter": "python",
   "pygments_lexer": "ipython3",
   "version": "3.11.2"
  }
 },
 "nbformat": 4,
 "nbformat_minor": 5
}
