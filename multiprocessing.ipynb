{
 "cells": [
  {
   "cell_type": "markdown",
   "id": "2c58ad6e-eee6-49d7-83c2-b351bb3ecd09",
   "metadata": {},
   "source": [
    "**Q1. What is multiprocessing in python? Why is it useful?**"
   ]
  },
  {
   "cell_type": "markdown",
   "id": "d7605d56-8c9f-4126-8ab1-6d83ce014c67",
   "metadata": {},
   "source": [
    "It is a python builting module and it is used to run multiple processes simultaneously."
   ]
  },
  {
   "cell_type": "markdown",
   "id": "8df55435-5036-4867-b5f0-286a5574ecc4",
   "metadata": {},
   "source": [
    "**Q2. What are the differences between multiprocessing and multithreading?**"
   ]
  },
  {
   "cell_type": "markdown",
   "id": "d82b3b43-f112-470f-acdd-59a2282d086c",
   "metadata": {},
   "source": [
    "Basic difference between multiprocessing and multithreading is that multiprocessing is used for use multiple core at same time and multithreading is used for use multiple thread at same time."
   ]
  },
  {
   "cell_type": "markdown",
   "id": "47593cc9-ba4b-482b-affe-0bb3ece15b9d",
   "metadata": {},
   "source": [
    "**Q3. Write a python code to create a process using the multiprocessing module.**"
   ]
  },
  {
   "cell_type": "code",
   "execution_count": 5,
   "id": "9cc952c2-9aa4-4cbc-9399-ae68bbe4435a",
   "metadata": {},
   "outputs": [
    {
     "name": "stdout",
     "output_type": "stream",
     "text": [
      "[1, 4, 16, 25, 36, 49, 64, 81, 100]\n"
     ]
    }
   ],
   "source": [
    "import multiprocessing\n",
    "\n",
    "def square(mlist):\n",
    "    result = []\n",
    "    for m in mlist:\n",
    "        result.append(m**2)\n",
    "    print(result)\n",
    "\n",
    "if __name__ == \"__main__\":\n",
    "    mlist = [1,2,4,5,6,7,8,9,10]\n",
    "    m1 = multiprocessing.Process(\n",
    "        target=square,\n",
    "        args=(mlist,)\n",
    "    )\n",
    "    m1.start()\n",
    "    m1.join()"
   ]
  },
  {
   "cell_type": "markdown",
   "id": "172a39a3-2e50-4687-b90d-7989d8fbf030",
   "metadata": {},
   "source": [
    "**Q4. What is a multiprocessing pool in python? Why is it used?**"
   ]
  },
  {
   "cell_type": "markdown",
   "id": "473e0d50-c2aa-445b-8aee-7e44b049ce19",
   "metadata": {},
   "source": [
    "Pool in multiprocessing is a pattern for automatically assign a pool of worker processes.\n",
    "It is used mainly used to run a function in multiple processes."
   ]
  },
  {
   "cell_type": "markdown",
   "id": "a8ff258d-8e37-48f0-a771-1931cefcf5a4",
   "metadata": {},
   "source": [
    "**Q5. How can we create a pool of worker processes in python using the multiprocessing module?**"
   ]
  },
  {
   "cell_type": "code",
   "execution_count": 6,
   "id": "ac5623e3-1825-44db-a2a3-bc4f2d054e8a",
   "metadata": {},
   "outputs": [
    {
     "name": "stdout",
     "output_type": "stream",
     "text": [
      "[1, 4, 9, 16, 25, 36, 49, 64, 81, 100]\n"
     ]
    }
   ],
   "source": [
    "import multiprocessing\n",
    "def square(n):\n",
    "    return n**2\n",
    "if __name__ == \"__main__\":\n",
    "    l = [\n",
    "    1,2,3,4,5,6,7,8,9,10\n",
    "    ]\n",
    "    with multiprocessing.Pool(processes=6) as pool:\n",
    "        out = pool.map(\n",
    "            square,\n",
    "            l\n",
    "        )\n",
    "    print(out)"
   ]
  },
  {
   "cell_type": "markdown",
   "id": "13e79139-7b9f-4a82-99c0-baf3d9be7bcb",
   "metadata": {},
   "source": [
    "**Q6. Write a python program to create 4 processes, each process should print a different number using the\n",
    "multiprocessing module in python.**"
   ]
  },
  {
   "cell_type": "code",
   "execution_count": 9,
   "id": "0a263bba-ebbd-43bb-b5e8-38292a2429e5",
   "metadata": {},
   "outputs": [
    {
     "data": {
      "text/plain": [
       "33"
      ]
     },
     "execution_count": 9,
     "metadata": {},
     "output_type": "execute_result"
    }
   ],
   "source": [
    "import random\n",
    "import multiprocessing\n",
    "def num_gen():\n",
    "    print(random.randrange(1,100))\n",
    "\n",
    "if __name__ == \"__main__\":\n",
    "    p1 = multiprocessing.Process(target=num_gen)\n",
    "    p2 = multiprocessing.Process(target=num_gen)\n",
    "    p3 = multiprocessing.Process(target=num_gen)\n",
    "    p1.start()\n",
    "    p2.start()\n",
    "    p3.start()\n",
    "    p1.join()\n",
    "    p2.join()\n",
    "    p3.join()"
   ]
  },
  {
   "cell_type": "code",
   "execution_count": null,
   "id": "935d8e20-e9d1-4b46-9280-a30d8b94c3d8",
   "metadata": {},
   "outputs": [],
   "source": []
  }
 ],
 "metadata": {
  "kernelspec": {
   "display_name": "Python 3 (ipykernel)",
   "language": "python",
   "name": "python3"
  },
  "language_info": {
   "codemirror_mode": {
    "name": "ipython",
    "version": 3
   },
   "file_extension": ".py",
   "mimetype": "text/x-python",
   "name": "python",
   "nbconvert_exporter": "python",
   "pygments_lexer": "ipython3",
   "version": "3.10.8"
  }
 },
 "nbformat": 4,
 "nbformat_minor": 5
}
