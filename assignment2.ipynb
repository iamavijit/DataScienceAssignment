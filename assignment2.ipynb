{
 "cells": [
  {
   "cell_type": "markdown",
   "id": "45301d54-2f75-411e-ac30-d7ed51167ac8",
   "metadata": {},
   "source": [
    "**Q1.How do you comment code in Python? What are the different types of comments?**"
   ]
  },
  {
   "cell_type": "markdown",
   "id": "69e50672-47a6-4290-bd05-aa1f0b9116a8",
   "metadata": {},
   "source": [
    "*There are two type of comments*\n",
    "1. Single Line Comment"
   ]
  },
  {
   "cell_type": "code",
   "execution_count": 1,
   "id": "5c368b1f-2cb6-4793-b9a2-3b69a4e06a8a",
   "metadata": {},
   "outputs": [],
   "source": [
    "#Hi This is a single line comment"
   ]
  },
  {
   "cell_type": "markdown",
   "id": "d6206d94-9527-461d-9559-cb9168bbb166",
   "metadata": {},
   "source": [
    "2. Multiline Comment"
   ]
  },
  {
   "cell_type": "code",
   "execution_count": 4,
   "id": "9f4b2770-d157-448a-b856-4fea95a92fc1",
   "metadata": {},
   "outputs": [
    {
     "name": "stdout",
     "output_type": "stream",
     "text": [
      "Hi\n"
     ]
    }
   ],
   "source": [
    "\"\"\"\n",
    "Hi This is a multiline comment\n",
    "\"\"\"\n",
    "print(\"Hi\")"
   ]
  },
  {
   "cell_type": "markdown",
   "id": "2f621db2-4694-4e28-b0a1-5237d4539d39",
   "metadata": {},
   "source": [
    "**Q2. What are variables in Python? How do you declare and assign values to variables?**"
   ]
  },
  {
   "cell_type": "markdown",
   "id": "6a876f85-5328-43f0-846f-e3b0fe6f427b",
   "metadata": {},
   "source": [
    "*Variables are like are like a container where data is stored. We can use this variable for accessing the value and also perform operation on this variable*\n",
    "\n",
    "*Syntax for declare and assigning value*\n",
    "*variable_name = 1*\n",
    "\n",
    "*Upper line is used to assign 1 in the variable_name*"
   ]
  },
  {
   "cell_type": "markdown",
   "id": "f6047915-5330-41a5-93ec-3f0e3a2217c5",
   "metadata": {},
   "source": [
    "**Q3. How do you convert one data type to another in Python?**"
   ]
  },
  {
   "cell_type": "markdown",
   "id": "8532045a-d9a3-4207-8121-0cd88bf2689a",
   "metadata": {},
   "source": [
    "*We need to use the data type functions like list(),set(),int(),str() etc.*"
   ]
  },
  {
   "cell_type": "markdown",
   "id": "8326ec91-c751-430a-b6d5-3019c5286a1e",
   "metadata": {},
   "source": [
    "***Example:***"
   ]
  },
  {
   "cell_type": "code",
   "execution_count": 6,
   "id": "04286ed0-933b-4767-806c-38dc9e7a9a8e",
   "metadata": {},
   "outputs": [],
   "source": [
    "a = 5"
   ]
  },
  {
   "cell_type": "code",
   "execution_count": 7,
   "id": "be15e586-9450-484e-b759-20696025758a",
   "metadata": {},
   "outputs": [
    {
     "name": "stdout",
     "output_type": "stream",
     "text": [
      "<class 'int'>\n"
     ]
    }
   ],
   "source": [
    "print(type(a))"
   ]
  },
  {
   "cell_type": "code",
   "execution_count": 10,
   "id": "21e1fe25-8666-4e90-9e46-df2323fba498",
   "metadata": {},
   "outputs": [],
   "source": [
    "a=str(a)"
   ]
  },
  {
   "cell_type": "code",
   "execution_count": 11,
   "id": "edff6006-080e-4ddc-bb23-c027246fdc6f",
   "metadata": {},
   "outputs": [
    {
     "name": "stdout",
     "output_type": "stream",
     "text": [
      "<class 'str'>\n"
     ]
    }
   ],
   "source": [
    "print(type(a))"
   ]
  },
  {
   "cell_type": "markdown",
   "id": "24ef58f8-4337-4a32-9cd3-f784f92efe1a",
   "metadata": {},
   "source": [
    "**Q4. How do you write and execute a Python script from the command line?**"
   ]
  },
  {
   "cell_type": "markdown",
   "id": "078a4850-cc05-48a7-aedc-b5803b9d2344",
   "metadata": {},
   "source": [
    "*The command is : ***python script.py*** in windows if only one version of python is installed in the system.*"
   ]
  },
  {
   "cell_type": "markdown",
   "id": "de734be6-b68e-4062-8fd9-5beedb75fa3a",
   "metadata": {},
   "source": [
    "**Q5. Given a list my_list = [1, 2, 3, 4, 5], write the code to slice the list and obtain the sub-list [2, 3].**"
   ]
  },
  {
   "cell_type": "code",
   "execution_count": 13,
   "id": "87b8674a-cf16-4a5c-b1af-7e4f8b9aa1ec",
   "metadata": {},
   "outputs": [],
   "source": [
    "my_list = [1, 2, 3, 4, 5]"
   ]
  },
  {
   "cell_type": "code",
   "execution_count": 14,
   "id": "6bbc0fc2-8815-4316-8fda-bf6fceaf8b9f",
   "metadata": {},
   "outputs": [
    {
     "data": {
      "text/plain": [
       "[2, 3]"
      ]
     },
     "execution_count": 14,
     "metadata": {},
     "output_type": "execute_result"
    }
   ],
   "source": [
    "my_list[1:3]"
   ]
  },
  {
   "cell_type": "markdown",
   "id": "5c376d55-62c3-4676-90a0-d2ae33b25df6",
   "metadata": {},
   "source": [
    "**Q6. What is a complex number in mathematics, and how is it represented in Python?**"
   ]
  },
  {
   "cell_type": "markdown",
   "id": "02c5ae53-fbfc-4c34-9a55-deee812f906a",
   "metadata": {},
   "source": [
    "*This is no-thing but a imaginary number*\n",
    "\n",
    "***Example:***\n",
    "\n",
    "*5+6i --> Here i denotes square root(-1)*"
   ]
  },
  {
   "cell_type": "code",
   "execution_count": 16,
   "id": "3f55cee1-e2fb-4935-b150-5c67cd2c5ecd",
   "metadata": {},
   "outputs": [],
   "source": [
    "complex_number = 5 + 6j"
   ]
  },
  {
   "cell_type": "code",
   "execution_count": 17,
   "id": "18d16496-8327-4690-a1dd-95f2ef5a6a79",
   "metadata": {},
   "outputs": [
    {
     "data": {
      "text/plain": [
       "(5+6j)"
      ]
     },
     "execution_count": 17,
     "metadata": {},
     "output_type": "execute_result"
    }
   ],
   "source": [
    "complex_number"
   ]
  },
  {
   "cell_type": "code",
   "execution_count": 18,
   "id": "6c9051c6-229a-4a51-a2ed-808774cb516e",
   "metadata": {},
   "outputs": [
    {
     "data": {
      "text/plain": [
       "complex"
      ]
     },
     "execution_count": 18,
     "metadata": {},
     "output_type": "execute_result"
    }
   ],
   "source": [
    "type(complex_number)"
   ]
  },
  {
   "cell_type": "markdown",
   "id": "91012fac-fa43-4bd8-af4f-4214e0480699",
   "metadata": {},
   "source": [
    "**Q7. What is the correct way to declare a variable named age and assign the value 25 to it?**"
   ]
  },
  {
   "cell_type": "markdown",
   "id": "46add2e2-d43d-4abc-b473-2794799084fa",
   "metadata": {},
   "source": [
    "*Correct way for assigning*"
   ]
  },
  {
   "cell_type": "code",
   "execution_count": 19,
   "id": "4f72c826-d4c8-4d81-8de3-5f4d8ef8683c",
   "metadata": {},
   "outputs": [],
   "source": [
    "age = 25"
   ]
  },
  {
   "cell_type": "markdown",
   "id": "4c685245-cebc-4d29-a5d0-87f8321027fd",
   "metadata": {},
   "source": [
    "**Q8. Declare a variable named price and assign the value 9.99 to it. What data type does this variable\n",
    "belong to?**"
   ]
  },
  {
   "cell_type": "code",
   "execution_count": 21,
   "id": "b3b97528-e03c-43fa-8d8e-7020796b866f",
   "metadata": {},
   "outputs": [],
   "source": [
    "price = 9.99"
   ]
  },
  {
   "cell_type": "code",
   "execution_count": 22,
   "id": "0cbe65bb-3061-42ca-9ade-c56537a2c85d",
   "metadata": {},
   "outputs": [
    {
     "data": {
      "text/plain": [
       "float"
      ]
     },
     "execution_count": 22,
     "metadata": {},
     "output_type": "execute_result"
    }
   ],
   "source": [
    "type(price)"
   ]
  },
  {
   "cell_type": "markdown",
   "id": "9c7914a3-4c10-42ff-8710-06c82b16ad62",
   "metadata": {},
   "source": [
    "*The data type is float.*"
   ]
  },
  {
   "cell_type": "markdown",
   "id": "4ad59aa5-ef8f-4a64-a0ee-f6b057b744b2",
   "metadata": {},
   "source": [
    "**Q9. Create a variable named name and assign your full name to it as a string. How would you print the\n",
    "value of this variable?**"
   ]
  },
  {
   "cell_type": "code",
   "execution_count": 24,
   "id": "def6d5a3-c98a-45ef-8d6b-1be5a6881f08",
   "metadata": {},
   "outputs": [
    {
     "name": "stdout",
     "output_type": "stream",
     "text": [
      "Avijit Haldar\n"
     ]
    }
   ],
   "source": [
    "name = \"Avijit Haldar\"\n",
    "print(name)"
   ]
  },
  {
   "cell_type": "markdown",
   "id": "c2df4b9b-9257-4d1e-94d3-d14262da352e",
   "metadata": {},
   "source": [
    "**Q10. Given the string \"Hello, World!\", extract the substring \"World\".**"
   ]
  },
  {
   "cell_type": "code",
   "execution_count": 25,
   "id": "128d93fe-dc1e-4afb-b9b6-f100ce352ee5",
   "metadata": {},
   "outputs": [],
   "source": [
    "string_a = \"Hello, World!\""
   ]
  },
  {
   "cell_type": "code",
   "execution_count": 26,
   "id": "707de779-7359-4fbd-adb6-06bb4a92544c",
   "metadata": {},
   "outputs": [
    {
     "data": {
      "text/plain": [
       "'World'"
      ]
     },
     "execution_count": 26,
     "metadata": {},
     "output_type": "execute_result"
    }
   ],
   "source": [
    "string_a[7:len(string_a)-1]"
   ]
  },
  {
   "cell_type": "markdown",
   "id": "a2d2dae0-4d12-4c30-9783-381e8ca9625c",
   "metadata": {},
   "source": [
    "**Q11. Create a variable named \"is_student\" and assign it a boolean value indicating whether you are\n",
    "currently a student or not.**"
   ]
  },
  {
   "cell_type": "code",
   "execution_count": 28,
   "id": "f289d20a-6bd8-450a-9489-2ab005c7e080",
   "metadata": {},
   "outputs": [
    {
     "name": "stdout",
     "output_type": "stream",
     "text": [
      "Cool !You are not a student\n"
     ]
    }
   ],
   "source": [
    "is_student = False\n",
    "if is_student:\n",
    "    print(\"Cool !You are a student\")\n",
    "else:\n",
    "    print(\"Cool !You are not a student\")"
   ]
  },
  {
   "cell_type": "code",
   "execution_count": null,
   "id": "d4aa1ec1-d10b-4e9e-86d3-1145e3ccb9fe",
   "metadata": {},
   "outputs": [],
   "source": []
  }
 ],
 "metadata": {
  "kernelspec": {
   "display_name": "Python 3 (ipykernel)",
   "language": "python",
   "name": "python3"
  },
  "language_info": {
   "codemirror_mode": {
    "name": "ipython",
    "version": 3
   },
   "file_extension": ".py",
   "mimetype": "text/x-python",
   "name": "python",
   "nbconvert_exporter": "python",
   "pygments_lexer": "ipython3",
   "version": "3.11.2"
  }
 },
 "nbformat": 4,
 "nbformat_minor": 5
}
