{
 "cells": [
  {
   "cell_type": "markdown",
   "id": "bca6ada7-1b74-4667-8c49-1ecbe54d3a02",
   "metadata": {},
   "source": [
    "***Q1. Which keyword is used to create a function? Create a function to return a list of odd numbers in the\n",
    "range of 1 to 25.***"
   ]
  },
  {
   "cell_type": "markdown",
   "id": "7365cdff-71f6-4ea9-ac1e-17cf4d9fc062",
   "metadata": {},
   "source": [
    "def function_name() keyword is used to create a function."
   ]
  },
  {
   "cell_type": "code",
   "execution_count": 1,
   "id": "5909717d-4ea1-48b2-bb4a-472d54a07941",
   "metadata": {},
   "outputs": [],
   "source": [
    "l = list(range(1,26))"
   ]
  },
  {
   "cell_type": "code",
   "execution_count": 2,
   "id": "b4e233be-cc9d-4b74-ab1c-1e155f2eb139",
   "metadata": {},
   "outputs": [
    {
     "data": {
      "text/plain": [
       "[1,\n",
       " 2,\n",
       " 3,\n",
       " 4,\n",
       " 5,\n",
       " 6,\n",
       " 7,\n",
       " 8,\n",
       " 9,\n",
       " 10,\n",
       " 11,\n",
       " 12,\n",
       " 13,\n",
       " 14,\n",
       " 15,\n",
       " 16,\n",
       " 17,\n",
       " 18,\n",
       " 19,\n",
       " 20,\n",
       " 21,\n",
       " 22,\n",
       " 23,\n",
       " 24,\n",
       " 25]"
      ]
     },
     "execution_count": 2,
     "metadata": {},
     "output_type": "execute_result"
    }
   ],
   "source": [
    "l"
   ]
  },
  {
   "cell_type": "code",
   "execution_count": 3,
   "id": "bfaed9ae-abde-414f-920e-bc097faf4f3e",
   "metadata": {},
   "outputs": [],
   "source": [
    "def odd(l):\n",
    "    n=[]\n",
    "    for i in l:\n",
    "        if i%2 != 0:\n",
    "            n.append(i)\n",
    "    return n"
   ]
  },
  {
   "cell_type": "code",
   "execution_count": 4,
   "id": "ee09eb23-fe4b-4ac6-88ef-ca1585137bb5",
   "metadata": {},
   "outputs": [
    {
     "data": {
      "text/plain": [
       "[1, 3, 5, 7, 9, 11, 13, 15, 17, 19, 21, 23, 25]"
      ]
     },
     "execution_count": 4,
     "metadata": {},
     "output_type": "execute_result"
    }
   ],
   "source": [
    "odd(l)"
   ]
  },
  {
   "cell_type": "markdown",
   "id": "098ca169-049a-4dc8-adad-56504f395204",
   "metadata": {},
   "source": [
    " **Q2.** Why *args and **kwargs is used in some functions? Create a function each for *args and **kwargs to\n",
    "demonstrate their use."
   ]
  },
  {
   "cell_type": "markdown",
   "id": "0251f9f3-57cc-4499-91b0-8b565ce05172",
   "metadata": {},
   "source": [
    "*args is used if argument number is not fixed and **kwargs is used if argument as dictionary is used and also number of argument is also not fixed."
   ]
  },
  {
   "cell_type": "code",
   "execution_count": 6,
   "id": "44914323-8155-4300-ace4-3e1a2bdd14ff",
   "metadata": {},
   "outputs": [],
   "source": [
    "def arg_f(*args):\n",
    "    return args\n",
    "def kwarg_f(**kwargs):\n",
    "    return kwargs"
   ]
  },
  {
   "cell_type": "code",
   "execution_count": 7,
   "id": "de271d13-50ef-4d74-83d2-cad61b67d176",
   "metadata": {},
   "outputs": [
    {
     "data": {
      "text/plain": [
       "(1, 2, 3, 4, 5, 67, 8)"
      ]
     },
     "execution_count": 7,
     "metadata": {},
     "output_type": "execute_result"
    }
   ],
   "source": [
    "arg_f(1,2,3,4,5,67,8)"
   ]
  },
  {
   "cell_type": "code",
   "execution_count": 8,
   "id": "86a15f17-f265-4a65-a62c-3affc849083a",
   "metadata": {},
   "outputs": [
    {
     "data": {
      "text/plain": [
       "{'name': 'Avijit', 'phone': '756589'}"
      ]
     },
     "execution_count": 8,
     "metadata": {},
     "output_type": "execute_result"
    }
   ],
   "source": [
    "kwarg_f(name=\"Avijit\",phone=\"756589\")"
   ]
  },
  {
   "cell_type": "markdown",
   "id": "b7c678a6-3d72-4cc7-b350-1708d691c304",
   "metadata": {},
   "source": [
    "***Q3. What is an iterator in python? Name the method used to initialise the iterator object and the method\n",
    "used for iteration. Use these methods to print the first five elements of the given list [2, 4, 6, 8, 10, 12, 14, 16,\n",
    "18, 20].***"
   ]
  },
  {
   "cell_type": "markdown",
   "id": "3f306d64-6f21-490b-b367-e86f928f57d0",
   "metadata": {},
   "source": [
    "A iterator is an object that contains a countable number of object. Initialist method iter() and next() used for iteration."
   ]
  },
  {
   "cell_type": "code",
   "execution_count": 10,
   "id": "fa40c85d-d845-4e12-a5cc-de20a584ae6e",
   "metadata": {},
   "outputs": [],
   "source": [
    "l = [2, 4, 6, 8, 10, 12, 14, 16, 18, 20]"
   ]
  },
  {
   "cell_type": "code",
   "execution_count": 11,
   "id": "832229c1-3983-4194-8cde-caa2e02855f9",
   "metadata": {},
   "outputs": [],
   "source": [
    "my_i = iter(l)"
   ]
  },
  {
   "cell_type": "code",
   "execution_count": 12,
   "id": "080bb2f5-59c3-42cc-b0df-ffbe03b2bc85",
   "metadata": {},
   "outputs": [
    {
     "name": "stdout",
     "output_type": "stream",
     "text": [
      "2\n",
      "4\n",
      "6\n",
      "8\n",
      "10\n"
     ]
    }
   ],
   "source": [
    "for i in range(5):\n",
    "    print(next(my_i))"
   ]
  },
  {
   "cell_type": "markdown",
   "id": "c0efedd6-8364-4789-96d9-3aad6986b87e",
   "metadata": {},
   "source": [
    "***Q4. What is a generator function in python? Why yield keyword is used? Give an example of a generator\n",
    "function.***"
   ]
  },
  {
   "cell_type": "markdown",
   "id": "749f3016-8cc4-45ae-ac0f-62249846ded1",
   "metadata": {},
   "source": [
    "  A generator in python is a function that returns an iterator using the yield keyword."
   ]
  },
  {
   "cell_type": "code",
   "execution_count": 13,
   "id": "01ccb240-34dc-4770-a679-750e62bb40a6",
   "metadata": {},
   "outputs": [],
   "source": [
    "def fib(n):\n",
    "    a,b = 0,1\n",
    "    for i in range(n):\n",
    "        yield a\n",
    "        a,b = b,a+b"
   ]
  },
  {
   "cell_type": "code",
   "execution_count": 14,
   "id": "6b787151-173b-4285-af88-254da6aa4c4d",
   "metadata": {},
   "outputs": [
    {
     "data": {
      "text/plain": [
       "<generator object fib at 0x000001FA972C7790>"
      ]
     },
     "execution_count": 14,
     "metadata": {},
     "output_type": "execute_result"
    }
   ],
   "source": [
    "fib(10)"
   ]
  },
  {
   "cell_type": "code",
   "execution_count": 15,
   "id": "491fbd4a-bd8f-45da-95e3-46b0a3e263f5",
   "metadata": {},
   "outputs": [
    {
     "data": {
      "text/plain": [
       "[0, 1, 1, 2, 3, 5, 8, 13, 21, 34]"
      ]
     },
     "execution_count": 15,
     "metadata": {},
     "output_type": "execute_result"
    }
   ],
   "source": [
    "list(fib(10))"
   ]
  },
  {
   "cell_type": "markdown",
   "id": "53b1325a-97e2-46b3-9316-bd69dccb1e66",
   "metadata": {},
   "source": [
    "***Q5. Create a generator function for prime numbers less than 1000. Use the next() method to print the\n",
    "first 20 prime numbers.***"
   ]
  },
  {
   "cell_type": "code",
   "execution_count": 18,
   "id": "174e559c-23c8-4275-a1ef-b3f1315a0d63",
   "metadata": {},
   "outputs": [],
   "source": [
    "def is_prime(n):\n",
    "    if n<=1:\n",
    "        return False\n",
    "    if n==2 or n==3:\n",
    "        return True\n",
    "    for i in range(2,int(n/2)+1):\n",
    "        if n%i == 0:\n",
    "            return False\n",
    "    return True"
   ]
  },
  {
   "cell_type": "code",
   "execution_count": 20,
   "id": "59aafafd-9ae1-412b-838d-78c68128b56b",
   "metadata": {},
   "outputs": [
    {
     "data": {
      "text/plain": [
       "True"
      ]
     },
     "execution_count": 20,
     "metadata": {},
     "output_type": "execute_result"
    }
   ],
   "source": [
    "is_prime(5)"
   ]
  },
  {
   "cell_type": "code",
   "execution_count": 21,
   "id": "eedbaea6-98c1-4844-a1d0-402230c2dceb",
   "metadata": {},
   "outputs": [],
   "source": [
    "def prime_gen(n):\n",
    "    for i in range(n):\n",
    "        if is_prime(i):\n",
    "            yield i"
   ]
  },
  {
   "cell_type": "code",
   "execution_count": 23,
   "id": "cafdffb7-2730-4095-a2d2-13e37fc95594",
   "metadata": {},
   "outputs": [],
   "source": [
    "p_g = prime_gen(1000)"
   ]
  },
  {
   "cell_type": "code",
   "execution_count": 26,
   "id": "ce72ba85-34a1-4b5e-b83d-9a22317754b6",
   "metadata": {},
   "outputs": [
    {
     "name": "stdout",
     "output_type": "stream",
     "text": [
      "2 3 5 7 11 13 17 19 23 29 31 37 41 43 47 53 59 61 67 71 "
     ]
    }
   ],
   "source": [
    "for i in range(20):\n",
    "    print(next(p_g),end=\" \")"
   ]
  },
  {
   "cell_type": "code",
   "execution_count": null,
   "id": "1b7c753c-f2e0-4738-8779-98953c3ccfc4",
   "metadata": {},
   "outputs": [],
   "source": []
  }
 ],
 "metadata": {
  "kernelspec": {
   "display_name": "Python 3 (ipykernel)",
   "language": "python",
   "name": "python3"
  },
  "language_info": {
   "codemirror_mode": {
    "name": "ipython",
    "version": 3
   },
   "file_extension": ".py",
   "mimetype": "text/x-python",
   "name": "python",
   "nbconvert_exporter": "python",
   "pygments_lexer": "ipython3",
   "version": "3.11.2"
  }
 },
 "nbformat": 4,
 "nbformat_minor": 5
}
