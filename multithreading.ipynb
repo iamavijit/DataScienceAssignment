{
 "cells": [
  {
   "cell_type": "markdown",
   "metadata": {},
   "source": [
    "### Question 1"
   ]
  },
  {
   "cell_type": "markdown",
   "metadata": {},
   "source": [
    "Multithreading is a way of achieving multitasking.\n",
    "Mutithreading is used to run multiple threads concurrently.\n",
    "\"threading\" module is used to acheive multithreading."
   ]
  },
  {
   "cell_type": "markdown",
   "metadata": {},
   "source": [
    "### Question 2"
   ]
  },
  {
   "cell_type": "markdown",
   "metadata": {},
   "source": [
    "\"threading\" module is used to acheive nultithreading.\n",
    "1. activeCount() -->Returns the total number of active thread\n",
    "2. currentThread() -->Returns the number of current thread which is currently executed\n",
    "3. enumerate() -->This function is used on iteranbles. Returns two things one index and one value."
   ]
  },
  {
   "cell_type": "markdown",
   "metadata": {},
   "source": [
    "### Question 3"
   ]
  },
  {
   "cell_type": "markdown",
   "metadata": {},
   "source": [
    "1. run() --> no new thread is created , it is like a normal method call in current thread\n",
    "2. start() --> a new thread is created and execute run() method\n",
    "3. join() --> parent thread will not execute until child thread is finished\n",
    "4. isAlive() --> check for a thread is alive or not"
   ]
  },
  {
   "cell_type": "markdown",
   "metadata": {},
   "source": [
    "### Question 4"
   ]
  },
  {
   "cell_type": "code",
   "execution_count": 2,
   "metadata": {},
   "outputs": [
    {
     "name": "stdout",
     "output_type": "stream",
     "text": [
      "[1, 4, 9, 16, 25, 36, 49, 64, 81, 100]\n",
      "[1, 8, 27, 64, 125, 216, 343, 512, 729, 1000]\n"
     ]
    }
   ],
   "source": [
    "import threading\n",
    "\n",
    "def square(my_list):\n",
    "    result = []\n",
    "    for n in my_list:\n",
    "        result.append(n**2)\n",
    "    print(result)\n",
    "def cube(my_list):\n",
    "    result = []\n",
    "    for n in my_list:\n",
    "        result.append(n**3)\n",
    "    print(result)\n",
    "\n",
    "if __name__ == \"__main__\":\n",
    "    l = [1,2,3,4,5,6,7,8,9,10]\n",
    "    t1 = threading.Thread(\n",
    "        target=square,\n",
    "        args=(l,)\n",
    "    )   \n",
    "    t2 = threading.Thread(\n",
    "        target=cube,\n",
    "        args=(l,)\n",
    "    )\n",
    "    t1.start()\n",
    "    t2.start()\n",
    "    t1.join()\n",
    "    t2.join()"
   ]
  },
  {
   "cell_type": "markdown",
   "metadata": {},
   "source": [
    "### Question 5"
   ]
  },
  {
   "cell_type": "markdown",
   "metadata": {},
   "source": [
    "**Advantages of Thread**"
   ]
  },
  {
   "cell_type": "markdown",
   "metadata": {},
   "source": [
    "1. Proper use of resources\n",
    "2. Execute multiple tasks at same time"
   ]
  },
  {
   "cell_type": "markdown",
   "metadata": {},
   "source": [
    "**Disadvantages of Thread**"
   ]
  },
  {
   "cell_type": "markdown",
   "metadata": {},
   "source": [
    "1. Increased the complexity of code\n",
    "2. Difficult for debugging"
   ]
  },
  {
   "cell_type": "markdown",
   "metadata": {},
   "source": [
    "### Question 6"
   ]
  },
  {
   "cell_type": "markdown",
   "metadata": {},
   "source": [
    "**Deadlock**"
   ]
  },
  {
   "cell_type": "markdown",
   "metadata": {},
   "source": [
    "Deadlock is a condition when threads are waiting indefinitely for others resources to release."
   ]
  },
  {
   "cell_type": "markdown",
   "metadata": {},
   "source": [
    "**Race Condition**"
   ]
  },
  {
   "cell_type": "markdown",
   "metadata": {},
   "source": [
    "When two threads modify a variable at same this condition is race condition."
   ]
  },
  {
   "cell_type": "markdown",
   "metadata": {},
   "source": []
  }
 ],
 "metadata": {
  "kernelspec": {
   "display_name": "Python 3",
   "language": "python",
   "name": "python3"
  },
  "language_info": {
   "codemirror_mode": {
    "name": "ipython",
    "version": 3
   },
   "file_extension": ".py",
   "mimetype": "text/x-python",
   "name": "python",
   "nbconvert_exporter": "python",
   "pygments_lexer": "ipython3",
   "version": "3.11.2"
  },
  "orig_nbformat": 4
 },
 "nbformat": 4,
 "nbformat_minor": 2
}
