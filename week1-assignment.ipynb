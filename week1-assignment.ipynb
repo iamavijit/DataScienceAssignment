{
 "cells": [
  {
   "cell_type": "code",
   "execution_count": 2,
   "id": "993f5ada-0f7b-420e-b2ea-6d53bed9f3c4",
   "metadata": {},
   "outputs": [
    {
     "name": "stdout",
     "output_type": "stream",
     "text": [
      "<class 'str'> <class 'list'> <class 'float'> <class 'tuple'>\n"
     ]
    }
   ],
   "source": [
    "# Q1. Create one variable containing following type of data:\n",
    "# (i) string\n",
    "# (ii) list\n",
    "# (iii) float\n",
    "# (iv) tuple\n",
    "a_string = \"Avijit\"\n",
    "a_list = [1,2,3,4]\n",
    "a_float = 2.56\n",
    "a_tuple = (92,3,4)\n",
    "print(type(a_string),type(a_list),type(a_float),type(a_tuple))"
   ]
  },
  {
   "cell_type": "code",
   "execution_count": 3,
   "id": "362ae7cf-c1e0-431d-a0b9-4f60065cfbb6",
   "metadata": {},
   "outputs": [
    {
     "name": "stdout",
     "output_type": "stream",
     "text": [
      "<class 'str'> <class 'str'> <class 'list'> <class 'int'>\n"
     ]
    }
   ],
   "source": [
    "# Q2. Given are some following variables containing data:\n",
    "# (i) var1 = ‘ ‘\n",
    "# (ii) var2 = ‘[ DS , ML , Python]’\n",
    "# (iii) var3 = [ ‘DS’ , ’ML’ , ‘Python’ ]\n",
    "# (iv) var4 = 1.\n",
    "# What will be the data type of the above given variable.\n",
    "var1 = ''\n",
    "var2 = '[ DS , ML , Python]'\n",
    "var3 = ['DS','ML','Python']\n",
    "var4 = 1\n",
    "print(type(var1),type(var2),type(var3),type(var4))"
   ]
  },
  {
   "cell_type": "code",
   "execution_count": 4,
   "id": "fe719f9a-41bd-418b-a7f6-93738d96841a",
   "metadata": {},
   "outputs": [],
   "source": [
    "# Q3. Explain the use of the following operators using an example:\n",
    "# (i) /-Arithmetic Operator for division\n",
    "# (ii) %-Arithmetic operator for Remainder\n",
    "# (iii) //-Artihmetic operator for floor divison\n",
    "# (iv) **-Multi line comment"
   ]
  },
  {
   "cell_type": "code",
   "execution_count": 5,
   "id": "aa5c1ac6-d5e9-46a0-911f-5abbf03c5ed7",
   "metadata": {},
   "outputs": [
    {
     "name": "stdout",
     "output_type": "stream",
     "text": [
      "10\n",
      "1\n",
      "1.3\n",
      "String\n",
      "5\n",
      "6\n",
      "7\n",
      "8\n",
      "9\n",
      "10\n",
      "7.8\n"
     ]
    }
   ],
   "source": [
    "# Q4. Create a list of length 10 of your choice containing multiple types of data. Using for loop print the\n",
    "# element and its data type.\n",
    "a = [1,1.3,\"String\",5,6,7,8,9,10,7.8]\n",
    "print(len(a))\n",
    "for i in a:\n",
    "    print(i)"
   ]
  },
  {
   "cell_type": "code",
   "execution_count": 11,
   "id": "cc2fe68b-e12f-4feb-af7f-9987badb4241",
   "metadata": {},
   "outputs": [
    {
     "name": "stdin",
     "output_type": "stream",
     "text": [
      " 100\n",
      " 2\n"
     ]
    },
    {
     "name": "stdout",
     "output_type": "stream",
     "text": [
      "2\n"
     ]
    }
   ],
   "source": [
    "# Q5. Using a while loop, verify if the number A is purely divisible by number B and if so then how many\n",
    "# times it can be divisible.\n",
    "\n",
    "a = int(input())\n",
    "b = int(input())\n",
    "total = 0\n",
    "while a%b == 0:\n",
    "    total = total + 1\n",
    "    a = int(a/b)\n",
    "    # total = total + 1\n",
    "print(total)"
   ]
  },
  {
   "cell_type": "code",
   "execution_count": 1,
   "id": "3d2ae790-e91d-43c5-ad97-4151806bf5e6",
   "metadata": {},
   "outputs": [
    {
     "name": "stdout",
     "output_type": "stream",
     "text": [
      "[0, 1, 2, 3, 4, 5, 6, 7, 8, 9, 10, 11, 12, 13, 14, 15, 16, 17, 18, 19, 20, 21, 22, 23, 24]\n",
      "0 is divisible by 3\n",
      "1  is not divisible by 3\n",
      "2  is not divisible by 3\n",
      "3 is divisible by 3\n",
      "4  is not divisible by 3\n",
      "5  is not divisible by 3\n",
      "6 is divisible by 3\n",
      "7  is not divisible by 3\n",
      "8  is not divisible by 3\n",
      "9 is divisible by 3\n",
      "10  is not divisible by 3\n",
      "11  is not divisible by 3\n",
      "12 is divisible by 3\n",
      "13  is not divisible by 3\n",
      "14  is not divisible by 3\n",
      "15 is divisible by 3\n",
      "16  is not divisible by 3\n",
      "17  is not divisible by 3\n",
      "18 is divisible by 3\n",
      "19  is not divisible by 3\n",
      "20  is not divisible by 3\n",
      "21 is divisible by 3\n",
      "22  is not divisible by 3\n",
      "23  is not divisible by 3\n",
      "24 is divisible by 3\n"
     ]
    }
   ],
   "source": [
    "# Q6. Create a list containing 25 int type data. Using for loop and if-else condition print if the element is\n",
    "# divisible by 3 or not.\n",
    "l = list(range(25))\n",
    "print(l)\n",
    "for i in l:\n",
    "    if i%3 == 0:\n",
    "        print(i,\"is divisible by 3\")\n",
    "    else:\n",
    "        print(i,\" is not divisible by 3\")\n",
    "        "
   ]
  },
  {
   "cell_type": "code",
   "execution_count": 6,
   "id": "80c20390-ae9c-4831-8412-07831f7dddef",
   "metadata": {},
   "outputs": [
    {
     "name": "stdout",
     "output_type": "stream",
     "text": [
      "[1, 2, 3, 4, 'HI']\n",
      "[1, 2, 'HEY', 4, 'HI']\n"
     ]
    },
    {
     "ename": "TypeError",
     "evalue": "'str' object does not support item assignment",
     "output_type": "error",
     "traceback": [
      "\u001b[0;31m---------------------------------------------------------------------------\u001b[0m",
      "\u001b[0;31mTypeError\u001b[0m                                 Traceback (most recent call last)",
      "Cell \u001b[0;32mIn[6], line 11\u001b[0m\n\u001b[1;32m      9\u001b[0m \u001b[38;5;66;03m#imutable\u001b[39;00m\n\u001b[1;32m     10\u001b[0m s \u001b[38;5;241m=\u001b[39m \u001b[38;5;124m\"\u001b[39m\u001b[38;5;124mHI\u001b[39m\u001b[38;5;124m\"\u001b[39m\n\u001b[0;32m---> 11\u001b[0m \u001b[43ms\u001b[49m\u001b[43m[\u001b[49m\u001b[38;5;241;43m1\u001b[39;49m\u001b[43m]\u001b[49m \u001b[38;5;241m=\u001b[39m\u001b[38;5;124m\"\u001b[39m\u001b[38;5;124mA\u001b[39m\u001b[38;5;124m\"\u001b[39m\n",
      "\u001b[0;31mTypeError\u001b[0m: 'str' object does not support item assignment"
     ]
    }
   ],
   "source": [
    "# Q7. What do you understand about mutable and immutable data types? Give examples for both showing\n",
    "# this property.\n",
    "#mutuable\n",
    "l = [1,2,3,4,\"HI\"]\n",
    "print(l)\n",
    "l[2] = \"HEY\" #not give error\n",
    "print(l)\n",
    "\n",
    "#imutable\n",
    "s = \"HI\"\n",
    "s[1] =\"A\" # give error"
   ]
  },
  {
   "cell_type": "code",
   "execution_count": null,
   "id": "f1285b3d-6a32-49a4-8d5a-7db04affd7f6",
   "metadata": {},
   "outputs": [],
   "source": []
  }
 ],
 "metadata": {
  "kernelspec": {
   "display_name": "Python 3 (ipykernel)",
   "language": "python",
   "name": "python3"
  },
  "language_info": {
   "codemirror_mode": {
    "name": "ipython",
    "version": 3
   },
   "file_extension": ".py",
   "mimetype": "text/x-python",
   "name": "python",
   "nbconvert_exporter": "python",
   "pygments_lexer": "ipython3",
   "version": "3.10.8"
  }
 },
 "nbformat": 4,
 "nbformat_minor": 5
}
