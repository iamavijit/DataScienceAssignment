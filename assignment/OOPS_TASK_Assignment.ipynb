{
 "cells": [
  {
   "cell_type": "markdown",
   "id": "e7c74652-4a68-4bc2-9d0f-145bfec788c8",
   "metadata": {},
   "source": [
    "***Q1, Create a vehicle class with an init method having instance variables as name_of_vehicle, max_speed\n",
    "and average_of_vehicle.***"
   ]
  },
  {
   "cell_type": "code",
   "execution_count": 5,
   "id": "a6d6a823-54e0-4115-8dd3-4a2f06c13aa9",
   "metadata": {},
   "outputs": [],
   "source": [
    "class vehicle:\n",
    "    def __init__(self,name,speed,average):\n",
    "        self.name_of_vehicle = name\n",
    "        self.max_speed = speed\n",
    "        self.average_of_vehicle = average\n",
    "    def details(self):\n",
    "        return self.name_of_vehicle,self.max_speed,self.average_of_vehicle"
   ]
  },
  {
   "cell_type": "code",
   "execution_count": 6,
   "id": "796f6334-03b1-4d5d-9def-cf8d71278bc5",
   "metadata": {},
   "outputs": [],
   "source": [
    "c_v = vehicle('Alto',100,25)"
   ]
  },
  {
   "cell_type": "code",
   "execution_count": 7,
   "id": "a3ee2944-32f6-480c-a217-639cb15d6f71",
   "metadata": {},
   "outputs": [
    {
     "data": {
      "text/plain": [
       "('Alto', 100, 25)"
      ]
     },
     "execution_count": 7,
     "metadata": {},
     "output_type": "execute_result"
    }
   ],
   "source": [
    "c_v.details()"
   ]
  },
  {
   "cell_type": "markdown",
   "id": "d83910c9-1a2c-4325-9a63-542fc019b359",
   "metadata": {},
   "source": [
    "***Q2. Create a child class car from the vehicle class created in Que 1, which will inherit the vehicle class.\n",
    "Create a method named seating_capacity which takes capacity as an argument and returns the name of\n",
    "the vehicle and its seating capacity.***"
   ]
  },
  {
   "cell_type": "code",
   "execution_count": 11,
   "id": "0138ca0d-c96a-4165-a98a-c9b773fcefc3",
   "metadata": {},
   "outputs": [],
   "source": [
    "class car(vehicle):\n",
    "    def __init__(self,name,speed,average):\n",
    "        super().__init__(name,speed,average)\n",
    "    def seating_capacity(self,capacity):\n",
    "        self.capacity = capacity\n",
    "        return self.name_of_vehicle,self.capacity"
   ]
  },
  {
   "cell_type": "code",
   "execution_count": 12,
   "id": "691969e4-0987-4166-b3ce-31b4f6ade944",
   "metadata": {},
   "outputs": [],
   "source": [
    "a = car('Alto',100,45)"
   ]
  },
  {
   "cell_type": "code",
   "execution_count": 13,
   "id": "4587b05c-a3f3-42c8-9e50-2c7c58411efa",
   "metadata": {},
   "outputs": [
    {
     "data": {
      "text/plain": [
       "('Alto', 4)"
      ]
     },
     "execution_count": 13,
     "metadata": {},
     "output_type": "execute_result"
    }
   ],
   "source": [
    "a.seating_capacity(4)"
   ]
  },
  {
   "cell_type": "markdown",
   "id": "7993cbfc-e673-41a2-bf16-091b05cd5389",
   "metadata": {},
   "source": [
    "***Q3. What is multiple inheritance? Write a python code to demonstrate multiple inheritance.***"
   ]
  },
  {
   "cell_type": "markdown",
   "id": "0f860919-9c5e-4951-ac9f-823d61f3cd89",
   "metadata": {},
   "source": [
    "When a child a class inherted from multiple class then it is called multiple inheritance."
   ]
  },
  {
   "cell_type": "code",
   "execution_count": 14,
   "id": "11331cc3-6b51-4649-a51c-1a5dad2d5146",
   "metadata": {},
   "outputs": [],
   "source": [
    "class a:\n",
    "    def add(self,a,b):\n",
    "        return a + b\n",
    "class b:\n",
    "    def mul(self,a,b):\n",
    "        return a * b\n",
    "class c(a,b):\n",
    "    pass"
   ]
  },
  {
   "cell_type": "code",
   "execution_count": 15,
   "id": "d9c9a9d1-40b6-400e-b38c-b8486d5423f6",
   "metadata": {},
   "outputs": [],
   "source": [
    "obj = c()"
   ]
  },
  {
   "cell_type": "code",
   "execution_count": 16,
   "id": "a5f5be23-bd27-4d9a-b6ba-435f7c4e941c",
   "metadata": {},
   "outputs": [
    {
     "data": {
      "text/plain": [
       "12"
      ]
     },
     "execution_count": 16,
     "metadata": {},
     "output_type": "execute_result"
    }
   ],
   "source": [
    "obj.add(5,7)"
   ]
  },
  {
   "cell_type": "code",
   "execution_count": 17,
   "id": "ef79e67c-e445-48d8-be94-9eaf661e6245",
   "metadata": {},
   "outputs": [
    {
     "data": {
      "text/plain": [
       "35"
      ]
     },
     "execution_count": 17,
     "metadata": {},
     "output_type": "execute_result"
    }
   ],
   "source": [
    "obj.mul(5,7)"
   ]
  },
  {
   "cell_type": "markdown",
   "id": "f0c200ab-9f3f-40f9-9f6f-fb780c6ebcda",
   "metadata": {},
   "source": [
    "***Q4. What are getter and setter in python? Create a class and create a getter and a setter method in this\n",
    "class.***"
   ]
  },
  {
   "cell_type": "markdown",
   "id": "136b76b0-49a8-4ae6-9c62-618cc516ba02",
   "metadata": {},
   "source": [
    "**getter** and **setter** is used in python for achieving encapsulation. This is used for for accessing private variable."
   ]
  },
  {
   "cell_type": "code",
   "execution_count": 18,
   "id": "66e1f346-0221-432f-bfa8-2869d75aa62f",
   "metadata": {},
   "outputs": [],
   "source": [
    "class A:\n",
    "    def __init__(self,a):\n",
    "        self.__a = a\n",
    "    def getter_a(self):\n",
    "        return self.__a\n",
    "    def setter_a(self,a):\n",
    "        self.__a = a"
   ]
  },
  {
   "cell_type": "code",
   "execution_count": 19,
   "id": "67e56b26-4dd6-4915-8795-2abe558b515d",
   "metadata": {},
   "outputs": [],
   "source": [
    "o = A(56)"
   ]
  },
  {
   "cell_type": "code",
   "execution_count": 20,
   "id": "7e9a6d4e-1531-4083-97b2-53084196dee3",
   "metadata": {},
   "outputs": [
    {
     "data": {
      "text/plain": [
       "56"
      ]
     },
     "execution_count": 20,
     "metadata": {},
     "output_type": "execute_result"
    }
   ],
   "source": [
    "o.getter_a()"
   ]
  },
  {
   "cell_type": "code",
   "execution_count": 21,
   "id": "a538deeb-a442-4593-bcf3-6eb3b2a8163a",
   "metadata": {},
   "outputs": [],
   "source": [
    "o.setter_a(67)"
   ]
  },
  {
   "cell_type": "code",
   "execution_count": 22,
   "id": "57f7dbaa-c2a7-4ceb-9fff-d5da13b0fd41",
   "metadata": {},
   "outputs": [
    {
     "data": {
      "text/plain": [
       "67"
      ]
     },
     "execution_count": 22,
     "metadata": {},
     "output_type": "execute_result"
    }
   ],
   "source": [
    "o.getter_a()"
   ]
  },
  {
   "cell_type": "markdown",
   "id": "0b515a86-f4cc-414d-8790-40f6ceb4e72a",
   "metadata": {},
   "source": [
    "***Q5.What is method overriding in python? Write a python code to demonstrate method overriding.***"
   ]
  },
  {
   "cell_type": "markdown",
   "id": "968cf358-5b00-4828-8071-a28eb843b118",
   "metadata": {},
   "source": [
    "When a child class having a method with same name with parent class with same return type and signature then the method in subclass is overridden method of parent class. "
   ]
  },
  {
   "cell_type": "code",
   "execution_count": 23,
   "id": "4b189dd6-497e-4b07-8228-08e84b3d0299",
   "metadata": {},
   "outputs": [],
   "source": [
    "class a:\n",
    "    def details(self):\n",
    "        print('I am parent class')\n",
    "class b(a):\n",
    "    def details(self):\n",
    "        print('I am child class')"
   ]
  },
  {
   "cell_type": "code",
   "execution_count": 24,
   "id": "8a1c4ded-11e5-4b6a-a545-1e9749d03371",
   "metadata": {},
   "outputs": [],
   "source": [
    "parent_class = a()\n",
    "child_class = b()"
   ]
  },
  {
   "cell_type": "code",
   "execution_count": 26,
   "id": "20359856-0721-409a-8e6b-3ca3f20f293b",
   "metadata": {},
   "outputs": [
    {
     "name": "stdout",
     "output_type": "stream",
     "text": [
      "I am parent class\n",
      "I am child class\n"
     ]
    }
   ],
   "source": [
    "parent_class.details()\n",
    "child_class.details()"
   ]
  },
  {
   "cell_type": "code",
   "execution_count": null,
   "id": "e83af21e-3b23-418d-9427-0764d1ea8af2",
   "metadata": {},
   "outputs": [],
   "source": []
  }
 ],
 "metadata": {
  "kernelspec": {
   "display_name": "Python 3 (ipykernel)",
   "language": "python",
   "name": "python3"
  },
  "language_info": {
   "codemirror_mode": {
    "name": "ipython",
    "version": 3
   },
   "file_extension": ".py",
   "mimetype": "text/x-python",
   "name": "python",
   "nbconvert_exporter": "python",
   "pygments_lexer": "ipython3",
   "version": "3.11.2"
  }
 },
 "nbformat": 4,
 "nbformat_minor": 5
}
