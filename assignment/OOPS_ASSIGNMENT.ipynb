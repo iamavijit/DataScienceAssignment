{
 "cells": [
  {
   "cell_type": "markdown",
   "id": "d0f39f5c-661b-49be-a261-43761a0e40f9",
   "metadata": {},
   "source": [
    "***Q1. Explain Class and Object with respect to Object-Oriented Programming. Give a suitable example.***"
   ]
  },
  {
   "cell_type": "markdown",
   "id": "085ec14d-7f9d-44b4-8d8d-b74c25558170",
   "metadata": {},
   "source": [
    "Class is like a blueprint for creating a instance or object. Object is like product which is created using blueprint of class.\n",
    "**Example:**"
   ]
  },
  {
   "cell_type": "code",
   "execution_count": 1,
   "id": "b3c3d5f3-6bc9-44af-9b61-3aa1abebf8f3",
   "metadata": {},
   "outputs": [
    {
     "name": "stdout",
     "output_type": "stream",
     "text": [
      "CREATED FROM CLASS a\n"
     ]
    }
   ],
   "source": [
    "class a:\n",
    "    def view(self):\n",
    "        print('CREATED FROM CLASS a')\n",
    "obj = a()\n",
    "obj.view()"
   ]
  },
  {
   "cell_type": "markdown",
   "id": "e1cd8d55-f136-4af6-b743-caed3f141223",
   "metadata": {},
   "source": [
    "Here a is class and obj is object which is created using class definition of 'a'."
   ]
  },
  {
   "cell_type": "markdown",
   "id": "6dce0742-2ebd-48d1-bd2f-78cc3a1b07e8",
   "metadata": {},
   "source": [
    "***Q2. Name the four pillars of OOPs.***"
   ]
  },
  {
   "cell_type": "markdown",
   "id": "145cc839-aac4-4a27-af6b-3909c368629b",
   "metadata": {},
   "source": [
    "1. Encapsulation\n",
    "2. Polymorphism\n",
    "3. Abstraction\n",
    "4. Inheritance"
   ]
  },
  {
   "cell_type": "markdown",
   "id": "2927c1b1-5124-4171-9354-adc10693f15c",
   "metadata": {},
   "source": [
    "***Q3. Explain why the '_ _ \n",
    "init _ _()' function is used. Give a suitable example.***"
   ]
  },
  {
   "cell_type": "markdown",
   "id": "48135dec-cfd8-4032-8763-584cd9649945",
   "metadata": {},
   "source": [
    "_ _ init _ _ () function is used to create a object. And also it is used to assigning some values to the object."
   ]
  },
  {
   "cell_type": "code",
   "execution_count": 2,
   "id": "920b83bb-4828-48e3-bec4-ef99dc1b7d00",
   "metadata": {},
   "outputs": [],
   "source": [
    "class A:\n",
    "    def __init__(self,a):\n",
    "        self.__a = a\n",
    "    def details(self):\n",
    "        return self.__a"
   ]
  },
  {
   "cell_type": "code",
   "execution_count": 4,
   "id": "0f6e17e2-755a-4a5c-90ad-4c7900b923bb",
   "metadata": {},
   "outputs": [],
   "source": [
    "obj_a = A(45)"
   ]
  },
  {
   "cell_type": "code",
   "execution_count": 5,
   "id": "8488a5d5-80af-4ad8-abdc-d658ce8edda3",
   "metadata": {},
   "outputs": [
    {
     "data": {
      "text/plain": [
       "45"
      ]
     },
     "execution_count": 5,
     "metadata": {},
     "output_type": "execute_result"
    }
   ],
   "source": [
    "obj_a.details()"
   ]
  },
  {
   "cell_type": "markdown",
   "id": "fe4b7c2c-3dc1-480b-8430-5e9281ddc56b",
   "metadata": {},
   "source": [
    "***Q4. Why self is used in OOPs?***"
   ]
  },
  {
   "cell_type": "markdown",
   "id": "bb036cfd-ef9b-4ddc-89e0-c0e3847236a0",
   "metadata": {},
   "source": [
    "self is used in oops for accessing the variable or functions of a instance."
   ]
  },
  {
   "cell_type": "markdown",
   "id": "7f7689d0-3aeb-4204-b1eb-69ec5723f51d",
   "metadata": {},
   "source": [
    "***Q5. What is inheritance? Give an example for each type of inheritance.***"
   ]
  },
  {
   "cell_type": "markdown",
   "id": "04d8b8cf-7289-452f-a29d-c09a2d793d7f",
   "metadata": {},
   "source": [
    "Inheritance is used to inherit property from parent class to child class.\n"
   ]
  },
  {
   "cell_type": "code",
   "execution_count": 7,
   "id": "f0812a1b-7b29-4d3d-9de0-8394df642006",
   "metadata": {},
   "outputs": [],
   "source": [
    "class A:\n",
    "    def add(self,x,y):\n",
    "        return x + y\n",
    "class B(A):\n",
    "    pass"
   ]
  },
  {
   "cell_type": "code",
   "execution_count": 8,
   "id": "432c6e1d-c193-40bb-bcde-64b790194420",
   "metadata": {},
   "outputs": [],
   "source": [
    "a = B()"
   ]
  },
  {
   "cell_type": "code",
   "execution_count": 9,
   "id": "a705874d-67c9-4951-ae37-ad91c996ae77",
   "metadata": {},
   "outputs": [
    {
     "data": {
      "text/plain": [
       "17"
      ]
     },
     "execution_count": 9,
     "metadata": {},
     "output_type": "execute_result"
    }
   ],
   "source": [
    "a.add(8,9)"
   ]
  },
  {
   "cell_type": "code",
   "execution_count": null,
   "id": "25b86901-bbc0-4327-9fbd-a24c026764a1",
   "metadata": {},
   "outputs": [],
   "source": []
  }
 ],
 "metadata": {
  "kernelspec": {
   "display_name": "Python 3 (ipykernel)",
   "language": "python",
   "name": "python3"
  },
  "language_info": {
   "codemirror_mode": {
    "name": "ipython",
    "version": 3
   },
   "file_extension": ".py",
   "mimetype": "text/x-python",
   "name": "python",
   "nbconvert_exporter": "python",
   "pygments_lexer": "ipython3",
   "version": "3.11.2"
  }
 },
 "nbformat": 4,
 "nbformat_minor": 5
}
