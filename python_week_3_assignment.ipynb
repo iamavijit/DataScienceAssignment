{
 "cells": [
  {
   "cell_type": "markdown",
   "id": "d161eb26-0890-4738-a061-58720b34fa75",
   "metadata": {},
   "source": [
    "***Q1. Create a python program to sort the given list of tuples based on integer value using a\n",
    "lambda function.\n",
    "[('Sachin Tendulkar', 34357), ('Ricky Ponting', 27483), ('Jack Kallis', 25534), ('Virat Kohli', 24936)]***"
   ]
  },
  {
   "cell_type": "code",
   "execution_count": 1,
   "id": "36c20556-bf8e-4066-ae1c-61c9ccbbc3c1",
   "metadata": {},
   "outputs": [],
   "source": [
    "l = [('Sachin Tendulkar', 34357), ('Ricky Ponting', 27483), ('Jack Kallis', 25534), ('Virat Kohli', 24936)]"
   ]
  },
  {
   "cell_type": "code",
   "execution_count": 2,
   "id": "bf440ff5-ce73-4926-a919-13110e96447d",
   "metadata": {},
   "outputs": [],
   "source": [
    "l.sort(key=lambda x:x[1])"
   ]
  },
  {
   "cell_type": "code",
   "execution_count": 3,
   "id": "fe372551-102c-4c6c-9f58-a7ffe4bf52c3",
   "metadata": {},
   "outputs": [
    {
     "data": {
      "text/plain": [
       "[('Virat Kohli', 24936),\n",
       " ('Jack Kallis', 25534),\n",
       " ('Ricky Ponting', 27483),\n",
       " ('Sachin Tendulkar', 34357)]"
      ]
     },
     "execution_count": 3,
     "metadata": {},
     "output_type": "execute_result"
    }
   ],
   "source": [
    "l"
   ]
  },
  {
   "cell_type": "markdown",
   "id": "f7408fe7-0aa0-4ac7-ba02-8112dfc8843d",
   "metadata": {},
   "source": [
    "***Q2. Write a Python Program to find the squares of all the numbers in the given list of integers using\n",
    "lambda and map functions.\n",
    "[1, 2, 3, 4, 5, 6, 7, 8, 9, 10]***"
   ]
  },
  {
   "cell_type": "code",
   "execution_count": 4,
   "id": "d423c175-e2ba-4c3f-9bea-282e41da4549",
   "metadata": {},
   "outputs": [],
   "source": [
    "l = [1, 2, 3, 4, 5, 6, 7, 8, 9, 10]"
   ]
  },
  {
   "cell_type": "code",
   "execution_count": 5,
   "id": "76843245-146b-49ea-a6a1-580c5d49d99c",
   "metadata": {},
   "outputs": [],
   "source": [
    "m=map(lambda x : x**2,l)"
   ]
  },
  {
   "cell_type": "code",
   "execution_count": 7,
   "id": "57b98df8-32f2-49f4-8c00-f853e326d25f",
   "metadata": {},
   "outputs": [
    {
     "name": "stdout",
     "output_type": "stream",
     "text": [
      "[1, 4, 9, 16, 25, 36, 49, 64, 81, 100]\n"
     ]
    }
   ],
   "source": [
    "print(list(m))"
   ]
  },
  {
   "cell_type": "markdown",
   "id": "b0aae88c-ea78-4312-86ea-25b43249c38a",
   "metadata": {},
   "source": [
    "***Q3. Write a python program to convert the given list of integers into a tuple of strings. Use map and\n",
    "lambda functions\n",
    "Given String: [1, 2, 3, 4, 5, 6, 7, 8, 9, 10]\n",
    "Expected output: ('1', '2', '3', '4', '5', '6', '7', '8', '9', '10')***"
   ]
  },
  {
   "cell_type": "code",
   "execution_count": 9,
   "id": "ce43c7c4-6c47-4682-aaf9-bbbca5aad2aa",
   "metadata": {},
   "outputs": [],
   "source": [
    "l1 = [1, 2, 3, 4, 5, 6, 7, 8, 9, 10]"
   ]
  },
  {
   "cell_type": "code",
   "execution_count": 11,
   "id": "4578cb50-b5b4-4421-9d2f-39d52338a567",
   "metadata": {},
   "outputs": [],
   "source": [
    "map_tup = tuple(map(lambda x:str(x),l1))"
   ]
  },
  {
   "cell_type": "code",
   "execution_count": 12,
   "id": "b5a94fa0-d927-482b-ac14-5dd0be739491",
   "metadata": {},
   "outputs": [
    {
     "name": "stdout",
     "output_type": "stream",
     "text": [
      "('1', '2', '3', '4', '5', '6', '7', '8', '9', '10')\n"
     ]
    }
   ],
   "source": [
    "print(map_tup)"
   ]
  },
  {
   "cell_type": "markdown",
   "id": "5795a3d1-cadb-4505-acee-ab10ec1e8383",
   "metadata": {},
   "source": [
    "***Q4. Write a python program using reduce function to compute the product of a list containing numbers\n",
    "from 1 to 25.***"
   ]
  },
  {
   "cell_type": "code",
   "execution_count": 13,
   "id": "5f325921-b81b-4729-a961-b932b6574f96",
   "metadata": {},
   "outputs": [],
   "source": [
    "from functools import reduce"
   ]
  },
  {
   "cell_type": "code",
   "execution_count": 14,
   "id": "e786e98f-e01c-4d65-a7c4-22f83d9e0ddd",
   "metadata": {},
   "outputs": [],
   "source": [
    "l2 = [i for i in range(1,26)] "
   ]
  },
  {
   "cell_type": "code",
   "execution_count": 15,
   "id": "ccfd36c1-6bdb-4961-a36b-2d134303f10a",
   "metadata": {},
   "outputs": [
    {
     "data": {
      "text/plain": [
       "[1,\n",
       " 2,\n",
       " 3,\n",
       " 4,\n",
       " 5,\n",
       " 6,\n",
       " 7,\n",
       " 8,\n",
       " 9,\n",
       " 10,\n",
       " 11,\n",
       " 12,\n",
       " 13,\n",
       " 14,\n",
       " 15,\n",
       " 16,\n",
       " 17,\n",
       " 18,\n",
       " 19,\n",
       " 20,\n",
       " 21,\n",
       " 22,\n",
       " 23,\n",
       " 24,\n",
       " 25]"
      ]
     },
     "execution_count": 15,
     "metadata": {},
     "output_type": "execute_result"
    }
   ],
   "source": [
    "l2"
   ]
  },
  {
   "cell_type": "code",
   "execution_count": 17,
   "id": "8c79e656-e2d6-416b-9b0c-29fd5ef28b48",
   "metadata": {},
   "outputs": [],
   "source": [
    "product = reduce(lambda x,y:x*y,l2)"
   ]
  },
  {
   "cell_type": "code",
   "execution_count": 18,
   "id": "f4009c48-4e86-4fab-b29a-f322c6b17630",
   "metadata": {},
   "outputs": [
    {
     "data": {
      "text/plain": [
       "15511210043330985984000000"
      ]
     },
     "execution_count": 18,
     "metadata": {},
     "output_type": "execute_result"
    }
   ],
   "source": [
    "product"
   ]
  },
  {
   "cell_type": "markdown",
   "id": "3f67276a-dba9-40ee-933c-cf51d37f1205",
   "metadata": {},
   "source": [
    "***Q5. Write a python program to filter the numbers in a given list that are divisible by 2 and 3 using the\n",
    "filter function.\n",
    "[2, 3, 6, 9, 27, 60, 90, 120, 55, 46]***"
   ]
  },
  {
   "cell_type": "code",
   "execution_count": 19,
   "id": "b93f2e59-5a16-422d-ab8c-2871b0e403e3",
   "metadata": {},
   "outputs": [],
   "source": [
    "l5 = [2, 3, 6, 9, 27, 60, 90, 120, 55, 46]"
   ]
  },
  {
   "cell_type": "code",
   "execution_count": 21,
   "id": "c281fd6e-9264-49af-923c-401b42f1db8f",
   "metadata": {},
   "outputs": [
    {
     "name": "stdout",
     "output_type": "stream",
     "text": [
      "[2, 3, 6, 9, 27, 60, 90, 120, 46]\n"
     ]
    }
   ],
   "source": [
    "print(list\n",
    "      (filter(lambda x: x%2==0 or x%3==0,l5)))"
   ]
  },
  {
   "cell_type": "markdown",
   "id": "1c8c0e6b-0d4a-408f-a7ba-10e3e3128c12",
   "metadata": {},
   "source": [
    "***Q6. Write a python program to find palindromes in the given list of strings using lambda and filter\n",
    "function. ['python', 'php', 'aba', 'radar', 'level']***"
   ]
  },
  {
   "cell_type": "code",
   "execution_count": 22,
   "id": "2f32e9ce-1a2b-4b55-8ca4-a9c2652f0f02",
   "metadata": {},
   "outputs": [],
   "source": [
    "l6 = ['python', 'php', 'aba', 'radar', 'level']"
   ]
  },
  {
   "cell_type": "code",
   "execution_count": 23,
   "id": "b10b6029-f908-48c3-95bc-7227341d881a",
   "metadata": {},
   "outputs": [],
   "source": [
    "palin = filter(lambda x : x == x[::-1],l6)"
   ]
  },
  {
   "cell_type": "code",
   "execution_count": 25,
   "id": "8bfa2e85-8e77-4e86-b366-f32cf516ba75",
   "metadata": {},
   "outputs": [
    {
     "name": "stdout",
     "output_type": "stream",
     "text": [
      "['php', 'aba', 'radar', 'level']\n"
     ]
    }
   ],
   "source": [
    "print(list(palin))"
   ]
  },
  {
   "cell_type": "code",
   "execution_count": null,
   "id": "dc55b0f5-a533-4b9a-b18e-a24d927946fe",
   "metadata": {},
   "outputs": [],
   "source": []
  }
 ],
 "metadata": {
  "kernelspec": {
   "display_name": "Python 3 (ipykernel)",
   "language": "python",
   "name": "python3"
  },
  "language_info": {
   "codemirror_mode": {
    "name": "ipython",
    "version": 3
   },
   "file_extension": ".py",
   "mimetype": "text/x-python",
   "name": "python",
   "nbconvert_exporter": "python",
   "pygments_lexer": "ipython3",
   "version": "3.11.2"
  }
 },
 "nbformat": 4,
 "nbformat_minor": 5
}
